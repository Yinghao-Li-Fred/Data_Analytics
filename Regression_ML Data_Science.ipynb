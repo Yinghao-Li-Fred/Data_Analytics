{
 "cells": [
  {
   "cell_type": "markdown",
   "id": "917ab9f1",
   "metadata": {},
   "source": [
    "<p style=\"text-align: center; font-size: 28px; font-weight: bold;\">CIND 123</p>\n",
    "<p style=\"text-align: center; font-size: 24px; font-weight: bold;\">Data Analytics: Basic Methods</p>\n",
    "<p style=\"text-align: center; font-size: 24px; font-weight: bold;\">Assignment 3 (10%)</p>\n",
    "\n",
    "**Yinghao Li**  \n",
    "**CIND123 DHC 501342626**\n",
    "\n",
    "<p style=\"text-align: center; font-size: 20px; font-weight: bold;\">Instructions</p>\n",
    " \n",
    "This assignment can be submitted using either Python or R, whichever you prefer.\n",
    "\n",
    "- **If using R**, you must submit an RMD file with its knitted file (PDF or HTML). To learn more about knitting and R markdown, visit [R Markdown](http://rmarkdown.rstudio.com).\n",
    "- **If using Python**, you must submit an IPYNB file and its exported PDF/HTML with clearly printed/shown answers.\n",
    "\n",
    "Failing to submit both files ({RMD + knitted PDF/HTML} OR {IPYNB + PDF/HTML}) will be subject to a 30% mark deduction.\n",
    "\n",
    "**NOTE:** IF YOU USE `R STUDIO`, YOU SHOULD NEVER HAVE `install.packages` IN YOUR CODE; OTHERWISE, THE `Knit` OPTION WILL RAISE AN ERROR. COMMENT OUT ALL PACKAGE INSTALLATIONS BUT KEEP `library()` CALLS.\n",
    "\n",
    "**NOTE:** If you answer the questions in R, all your answers should be in R (ignore Python questions). If you answer the questions in Python, all your answers should be in Python (ignore R questions). You are not allowed to switch languages in this assignment."
   ]
  },
  {
   "cell_type": "markdown",
   "id": "9c2aaa63",
   "metadata": {},
   "source": [
    "<p style=\"font-size: 24px; font-weight: bold;\">Question 1 (25 points)</p>\n",
    "\n",
    "Midterm and final grades of some students are given as (87, 72, 80, 91, 85, 69, 40, 34, 61) and (59, 68, 52, 62, 78, 70, 35, 28, 45). Set variables `midterm` and `final` respectively. "
   ]
  },
  {
   "cell_type": "markdown",
   "id": "b8c8b022",
   "metadata": {},
   "source": [
    "<p style=\"font-size: 20px; font-weight: bold;\">Q1a (10 points)</p>\n",
    "\n",
    "Find the least-squares line relating the final to the midterm.\n",
    "\n",
    "Does the assumption of a linear relationship appear to be reasonable in this case? Give reasons to your answer as a comment."
   ]
  },
  {
   "cell_type": "code",
   "execution_count": 6,
   "id": "7cad6e58",
   "metadata": {},
   "outputs": [
    {
     "name": "stdout",
     "output_type": "stream",
     "text": [
      "slope:  0.663579834180262\n",
      "intercept 9.582675849157539\n",
      "least-squares line:  y= 0.663579834180262 *x + 9.582675849157539\n"
     ]
    }
   ],
   "source": [
    "# Code\n",
    "import numpy as np\n",
    "import matplotlib.pyplot as plt\n",
    "\n",
    "midterm = np.array([87, 72, 80, 91, 85, 69, 40, 34, 61])\n",
    "final = np.array([59, 68, 52, 62, 78, 70, 35, 28, 45])\n",
    "\n",
    "midterm_mean = np.mean(midterm)\n",
    "final_mean = np.mean(final)\n",
    "\n",
    "numerator = np.sum((midterm-midterm_mean)*(final-final_mean))\n",
    "denominator = np.sum((midterm-midterm_mean)**2)\n",
    "\n",
    "slope = numerator/denominator\n",
    "intercept = final_mean-(slope*midterm_mean)\n",
    "print(\"slope: \", slope)\n",
    "print(\"intercept\", intercept)\n",
    "print(\"least-squares line: \", \"y=\", slope, \"*x\", \"+\", intercept)"
   ]
  },
  {
   "cell_type": "code",
   "execution_count": null,
   "id": "f1c99265",
   "metadata": {},
   "outputs": [],
   "source": [
    "# Comment\n",
    "\"\"\"The assumption of a linear relationship appear to be reasonable in this case. As we can see in the linear function, there exists an obvious positive relationship\n",
    "between the midterm grades and the final grades. The slope is 0.66.\"\"\""
   ]
  },
  {
   "cell_type": "markdown",
   "id": "605272f4",
   "metadata": {},
   "source": [
    "<p style=\"font-size: 20px; font-weight: bold;\">Q1b (10 points)</p>\n",
    "\n",
    "Plot the `final` as a function of the `midterm` using a scatterplot and graph the least-square line in red color on the same plot."
   ]
  },
  {
   "cell_type": "code",
   "execution_count": 8,
   "id": "38c04e42",
   "metadata": {},
   "outputs": [
    {
     "data": {
      "image/png": "[encoded data removed]",
      "text/plain": [
       "<Figure size 640x480 with 1 Axes>"
      ]
     },
     "metadata": {},
     "output_type": "display_data"
    }
   ],
   "source": [
    "plt.scatter(midterm, final, color='black', label='Data Points')\n",
    "plt.plot(midterm, slope*midterm + intercept, color='red', label='Least-Squares Line')\n",
    "plt.xlabel('Midterm Grades')\n",
    "plt.ylabel('Final Grades')\n",
    "plt.title('Midterm vs Final Grades Least-Squares')\n",
    "plt.show()"
   ]
  },
  {
   "cell_type": "markdown",
   "id": "8e027a13",
   "metadata": {},
   "source": [
    "<p style=\"font-size: 20px; font-weight: bold;\">Q1c (5 points)</p>\n",
    "\n",
    "Use the regression line to predict the final grades when the midterm grades are 82 and 32."
   ]
  },
  {
   "cell_type": "code",
   "execution_count": 9,
   "id": "b4dd06ad",
   "metadata": {},
   "outputs": [
    {
     "name": "stdout",
     "output_type": "stream",
     "text": [
      "63.996222251939024\n",
      "30.817230542925923\n"
     ]
    }
   ],
   "source": [
    "y_82 = intercept+slope*82\n",
    "y_32 = intercept+slope*32\n",
    "print(y_82)\n",
    "print(y_32)"
   ]
  },
  {
   "cell_type": "markdown",
   "id": "ae4b3765",
   "metadata": {},
   "source": [
    "<p style=\"font-size: 24px; font-weight: bold;\">Question 2 (60 points)</p>\n",
    "\n",
    "This question makes use of package `plm` in `R`. Please load Crime dataset as follows:"
   ]
  },
  {
   "cell_type": "code",
   "execution_count": null,
   "id": "318bb680",
   "metadata": {},
   "outputs": [],
   "source": [
    "# install.packages(\"plm\")\n",
    "library(plm) \n",
    "data(Crime)"
   ]
  },
  {
   "cell_type": "markdown",
   "id": "523ee24a",
   "metadata": {},
   "source": [
    "In Python, you can load the `crime.csv` file attached to the assignment."
   ]
  },
  {
   "cell_type": "markdown",
   "id": "8ce9c1c5",
   "metadata": {},
   "source": [
    "<p style=\"font-size: 20px; font-weight: bold;\">Q2a (5 points)</p>\n",
    "\n",
    "Display the first 7 rows of `crime` data and display the names of all the variables, the number of variables, then display a descriptive summary of each variable."
   ]
  },
  {
   "cell_type": "code",
   "execution_count": 34,
   "id": "aa079508",
   "metadata": {},
   "outputs": [
    {
     "name": "stdout",
     "output_type": "stream",
     "text": [
      "   Unnamed: 0  county  year    crmrte    prbarr   prbconv   prbpris  avgsen  \\\n",
      "0           1       1    81  0.039885  0.289696  0.402062  0.472222    5.61   \n",
      "1           2       1    82  0.038345  0.338111  0.433005  0.506993    5.59   \n",
      "2           3       1    83  0.030305  0.330449  0.525703  0.479705    5.80   \n",
      "3           4       1    84  0.034726  0.362525  0.604706  0.520104    6.89   \n",
      "4           5       1    85  0.036573  0.325395  0.578723  0.497059    6.55   \n",
      "5           6       1    86  0.034752  0.326062  0.512324  0.439863    6.90   \n",
      "6           7       1    87  0.035604  0.298270  0.527596  0.436170    6.71   \n",
      "\n",
      "      polpc   density  ...     lwfir     lwser     lwmfg     lwfed     lwsta  \\\n",
      "0  0.001787  2.307159  ...  5.607452  5.374044  5.434246  6.014619  5.464848   \n",
      "1  0.001767  2.330254  ...  5.706707  5.444911  5.482013  6.039540  5.536862   \n",
      "2  0.001836  2.341801  ...  5.736475  5.481292  5.597310  6.084157  5.522900   \n",
      "3  0.001886  2.346420  ...  5.858180  5.531204  5.640985  6.129421  5.568077   \n",
      "4  0.001924  2.364896  ...  5.948220  5.564850  5.700042  6.195282  5.639919   \n",
      "5  0.001895  2.385681  ...  6.015875  5.596987  5.776568  6.171011  5.659169   \n",
      "6  0.001828  2.422633  ...  6.116272  5.613776  5.812757  6.168732  5.677062   \n",
      "\n",
      "      lwloc  lpctymle   lpctmin    ltaxpc      lmix  \n",
      "0  5.444450 -2.433870  3.006608  3.246399 -2.303407  \n",
      "1  5.467174 -2.449038  3.006608  3.213833 -2.272549  \n",
      "2  5.515765 -2.464036  3.006608  3.275311 -2.517281  \n",
      "3  5.577387 -2.478925  3.006608  3.289981 -2.544612  \n",
      "4  5.664972 -2.497306  3.006608  3.337204 -2.372487  \n",
      "5  5.725870 -2.524721  3.006608  3.392526 -2.329722  \n",
      "6  5.742715 -2.552702  3.006608  3.433783 -2.523621  \n",
      "\n",
      "[7 rows x 45 columns]\n",
      "To display the names of all the variables: \n",
      "Index(['Unnamed: 0', 'county', 'year', 'crmrte', 'prbarr', 'prbconv',\n",
      "       'prbpris', 'avgsen', 'polpc', 'density', 'taxpc', 'region', 'smsa',\n",
      "       'pctmin', 'wcon', 'wtuc', 'wtrd', 'wfir', 'wser', 'wmfg', 'wfed',\n",
      "       'wsta', 'wloc', 'mix', 'pctymle', 'lcrmrte', 'lprbarr', 'lprbconv',\n",
      "       'lprbpris', 'lavgsen', 'lpolpc', 'ldensity', 'lwcon', 'lwtuc', 'lwtrd',\n",
      "       'lwfir', 'lwser', 'lwmfg', 'lwfed', 'lwsta', 'lwloc', 'lpctymle',\n",
      "       'lpctmin', 'ltaxpc', 'lmix'],\n",
      "      dtype='object')\n",
      "To display the number of columns: \n",
      "45\n",
      "To display a descriptive summary of each variable\n",
      "        Unnamed: 0     county        year      crmrte      prbarr     prbconv  \\\n",
      "count   630.000000  630.00000  630.000000  630.000000  630.000000  630.000000   \n",
      "unique         NaN        NaN         NaN         NaN         NaN         NaN   \n",
      "top            NaN        NaN         NaN         NaN         NaN         NaN   \n",
      "freq           NaN        NaN         NaN         NaN         NaN         NaN   \n",
      "mean    315.500000  100.60000   84.000000    0.031588    0.307368    0.688618   \n",
      "std     182.009615   58.03627    2.001589    0.018121    0.171205    1.690345   \n",
      "min       1.000000    1.00000   81.000000    0.001812    0.058824    0.068376   \n",
      "25%     158.250000   51.00000   82.000000    0.018352    0.217902    0.347692   \n",
      "50%     315.500000  103.00000   84.000000    0.028441    0.278240    0.474375   \n",
      "75%     472.750000  151.00000   86.000000    0.038406    0.352518    0.635597   \n",
      "max     630.000000  197.00000   87.000000    0.163835    2.750000   37.000000   \n",
      "\n",
      "           prbpris      avgsen       polpc     density  ...       lwfir  \\\n",
      "count   630.000000  630.000000  630.000000  630.000000  ...  630.000000   \n",
      "unique         NaN         NaN         NaN         NaN  ...         NaN   \n",
      "top            NaN         NaN         NaN         NaN  ...         NaN   \n",
      "freq           NaN         NaN         NaN         NaN  ...         NaN   \n",
      "mean      0.425518    8.954540    0.001917    1.386062  ...    5.579433   \n",
      "std       0.087245    2.658082    0.002735    1.439703  ...    0.277204   \n",
      "min       0.148936    4.220000    0.000458    0.197719  ...    1.257233   \n",
      "25%       0.374403    7.160000    0.001191    0.532944  ...    5.462579   \n",
      "50%       0.428571    8.495000    0.001451    0.952595  ...    5.577550   \n",
      "75%       0.483189   10.197500    0.001803    1.507818  ...    5.711883   \n",
      "max       0.678571   25.830000    0.035578    8.827652  ...    6.233362   \n",
      "\n",
      "             lwser       lwmfg       lwfed       lwsta       lwloc  \\\n",
      "count   630.000000  630.000000  630.000000  630.000000  630.000000   \n",
      "unique         NaN         NaN         NaN         NaN         NaN   \n",
      "top            NaN         NaN         NaN         NaN         NaN   \n",
      "freq           NaN         NaN         NaN         NaN         NaN   \n",
      "mean      5.364625    5.615181    5.988757    5.677787    5.540139   \n",
      "std       0.360098    0.272747    0.158761    0.176131    0.159691   \n",
      "min       0.611825    4.623305    5.542831    5.153407    5.097363   \n",
      "25%       5.253943    5.455450    5.890330    5.553569    5.424002   \n",
      "50%       5.377477    5.604311    6.001365    5.667706    5.533923   \n",
      "75%       5.510016    5.768172    6.097062    5.803605    5.667369   \n",
      "max       7.685734    6.472115    6.393507    6.306275    5.961237   \n",
      "\n",
      "          lpctymle     lpctmin      ltaxpc        lmix  \n",
      "count   630.000000  630.000000  630.000000  630.000000  \n",
      "unique         NaN         NaN         NaN         NaN  \n",
      "top            NaN         NaN         NaN         NaN  \n",
      "freq           NaN         NaN         NaN         NaN  \n",
      "mean     -2.443015    2.913361    3.356385   -2.234233  \n",
      "std       0.196784    0.954615    0.308224    0.649565  \n",
      "min      -2.778080    0.249708    2.660439   -6.008814  \n",
      "25%      -2.543456    2.303045    3.153829   -2.585961  \n",
      "50%      -2.486930    3.212685    3.324759   -2.281916  \n",
      "75%      -2.416943    3.643437    3.504693   -1.903749  \n",
      "max      -1.293320    4.164309    4.785502    1.386294  \n",
      "\n",
      "[11 rows x 45 columns]\n"
     ]
    }
   ],
   "source": [
    "import pandas as pd\n",
    "\n",
    "crime_path = \"D:\\Ryerson Big Data Certificate\\CIND123-Data Analytics Basic Methods\\Assignment3\\crime.csv\"\n",
    "\n",
    "df = pd.read_csv(crime_path)\n",
    "print(df.head(7))\n",
    "print(\"To display the names of all the variables: \", df.columns, sep='\\n')\n",
    "num_columns = df.shape[1]\n",
    "print(\"To display the number of columns: \", num_columns, sep='\\n')\n",
    "print(\"To display a descriptive summary of each variable\", df.describe(include='all'), sep='\\n')\n"
   ]
  },
  {
   "cell_type": "markdown",
   "id": "f1f8b55a",
   "metadata": {},
   "source": [
    "\n",
    "<p style=\"font-size: 20px; font-weight: bold;\">Q2b (5 points)</p>\n",
    "\n",
    "Calculate the mean,variance and standard deviation of probability of conviction (`prbconv`) by omitting the missing values, if any."
   ]
  },
  {
   "cell_type": "code",
   "execution_count": 44,
   "id": "e851e16d",
   "metadata": {},
   "outputs": [
    {
     "name": "stdout",
     "output_type": "stream",
     "text": [
      "mean:  0.6886176509523809\n",
      "variance:  2.8572654474341377\n",
      "standard deviation:  1.6903447717652567\n"
     ]
    }
   ],
   "source": [
    "df_prbconv = df['prbconv'].dropna()\n",
    "\n",
    "df_prbconv_mean = df_prbconv.mean()\n",
    "df_prbconv_var = df_prbconv.var()\n",
    "df_prbconv_std = df_prbconv.std()\n",
    "\n",
    "print(\"mean: \",df_prbconv_mean)\n",
    "print(\"variance: \", df_prbconv_var)\n",
    "print(\"standard deviation: \", df_prbconv_std)"
   ]
  },
  {
   "cell_type": "markdown",
   "id": "7f7a33c7",
   "metadata": {},
   "source": [
    "\n",
    "<p style=\"font-size: 20px; font-weight: bold;\">Q2c (10 points)</p>\n",
    "\n",
    "Use `lpolpc` (log-police per capita) and `smsa` variables to build a linear regression model to predict probability of conviction (`prbconv`). And, compare with another linear regression model that uses `polpc` (police per capita) and `smsa`."
   ]
  },
  {
   "cell_type": "code",
   "execution_count": 84,
   "id": "e3f0d5c2",
   "metadata": {},
   "outputs": [
    {
     "name": "stdout",
     "output_type": "stream",
     "text": [
      "Model1 Mean Squared Error: 1.403902471899701\n",
      "Model1 R**2 Error:  0.1879993093964557\n",
      "Model2 Mean Squared Error: 1.2953047441374619\n",
      "Model2 R**2 Error:  0.2508109588564005\n"
     ]
    }
   ],
   "source": [
    "from sklearn.linear_model import LinearRegression\n",
    "from sklearn.model_selection import train_test_split\n",
    "from sklearn.metrics import mean_squared_error, r2_score\n",
    "\n",
    "df = pd.read_csv(crime_path)\n",
    "df = df.dropna(subset=['prbconv', 'lpolpc', 'polpc', 'smsa'])\n",
    "\n",
    "df['smsa'] = df['smsa'].map({'yes': 1, 'no': 0})\n",
    "\n",
    "y = df['prbconv']\n",
    "X1 = df[['lpolpc', 'smsa']]\n",
    "X2 = df[['polpc', 'smsa']]\n",
    "\n",
    "X1_train, X1_test, y1_train, y1_test = train_test_split(X1, y, test_size=0.2, random_state=42)\n",
    "X2_train, X2_test, y2_train, y2_test = train_test_split(X2, y, test_size=0.2, random_state=42)\n",
    "\n",
    "# Train the first model\n",
    "model1 = LinearRegression()\n",
    "model1.fit(X1_train, y1_train)\n",
    "y_pred1 = model1.predict(X1_test)\n",
    "mse1 = mean_squared_error(y1_test, y_pred1)\n",
    "r2_1 = r2_score(y1_test, y_pred1)\n",
    "\n",
    "# train the second model\n",
    "model2 = LinearRegression()\n",
    "model2.fit(X2_train, y2_train)\n",
    "y_pred2 = model2.predict(X2_test)\n",
    "mse2 = mean_squared_error(y2_test, y_pred2)\n",
    "r2_2 = r2_score(y2_test, y_pred2)\n",
    "\n",
    "print(\"Model1 Mean Squared Error:\", mse1)\n",
    "print(\"Model1 R**2 Error: \", r2_1)\n",
    "\n",
    "print(\"Model2 Mean Squared Error:\", mse2)\n",
    "print(\"Model2 R**2 Error: \", r2_2)"
   ]
  },
  {
   "cell_type": "markdown",
   "id": "e1dc82fe",
   "metadata": {},
   "source": [
    "<p style=\"font-size: 20px; font-weight: bold;\">Q2d (10 points)</p>\n",
    "\n",
    "How can you draw a conclusion from the results? (Note: Full marks requires comment on the predictors)"
   ]
  },
  {
   "cell_type": "code",
   "execution_count": null,
   "id": "23f95a8b",
   "metadata": {},
   "outputs": [],
   "source": [
    "\"\"\"The Mean squared error for model 2 is smaller than model 1, which means the predictions made by model 2 are more conscise than model 1.\n",
    "   A lower mean squared error indicates a better fit of the model to the data.\n",
    "   The R**2 of model 2 is higher than model 1, which means model 2 explains a greater proportion of the variance in the dependent variable.\n",
    "\"\"\""
   ]
  },
  {
   "cell_type": "markdown",
   "id": "d720a5e5",
   "metadata": {},
   "source": [
    "<p style=\"font-size: 20px; font-weight: bold;\">Q2e (10 points)</p>\n",
    "\n",
    "Based on the output of your model, predict the output for different factors of `smsa` when `polpc` is set to 0.0025. Use both the `predict` function and manual intercept and slope equations and compare the results."
   ]
  },
  {
   "cell_type": "code",
   "execution_count": 98,
   "id": "ead581a8",
   "metadata": {},
   "outputs": [
    {
     "name": "stdout",
     "output_type": "stream",
     "text": [
      "    polpc  smsa\n",
      "0  0.0025     0\n",
      "1  0.0025     0\n",
      "[0.87441253 0.87441253]\n",
      "intercept:  0.21292788170596133\n",
      "coefficients:  [264.59386097  -0.43844014]\n",
      "manual_prediction_yes:  0.4359723915019734\n",
      "manual_prediction_no:  0.8744125341186665\n"
     ]
    }
   ],
   "source": [
    "input_data = pd.DataFrame({\n",
    "    'polpc': [0.0025, 0.0025],\n",
    "    'smsa': ['yes', 'no']\n",
    "})\n",
    "\n",
    "input_data = pd.get_dummies(input_data, drop_first=True)\n",
    "input_data = input_data.reindex(columns=['polpc', 'smsa'], fill_value=0)\n",
    "print(input_data)\n",
    "\n",
    "predictions = model2.predict(input_data)\n",
    "print(predictions)\n",
    "\n",
    "intercept = model2.intercept_\n",
    "coefficients = model2.coef_\n",
    "print(\"intercept: \", intercept)\n",
    "print(\"coefficients: \", coefficients)\n",
    "\n",
    "# manual calculations, y=b0+b1*x1+b2*x2\n",
    "polpc_value = 0.0025\n",
    "smsa_yes = 1\n",
    "manual_prediction_yes = intercept + coefficients[0]*polpc_value + coefficients[1]*smsa_yes\n",
    "\n",
    "smsa_no = 0\n",
    "manual_prediction_no = intercept + coefficients[0]*polpc_value + coefficients[1]*smsa_no\n",
    "\n",
    "print(\"manual_prediction_yes: \", manual_prediction_yes)\n",
    "print(\"manual_prediction_no: \", manual_prediction_no)"
   ]
  },
  {
   "cell_type": "markdown",
   "id": "bb355cf3",
   "metadata": {},
   "source": [
    "<p style=\"font-size: 20px; font-weight: bold;\">Q2f (10 points)</p>\n",
    "\n",
    "Find Pearson correlation between probability of prison sentence `prbpris` and tax per capita `taxpc`; and also Pearson correlation between probability of conviction `prbconv` and probability of arrest `prbarr`."
   ]
  },
  {
   "cell_type": "code",
   "execution_count": 5,
   "id": "b0da9922",
   "metadata": {},
   "outputs": [
    {
     "name": "stdout",
     "output_type": "stream",
     "text": [
      "prbpris_taxpc -0.11206309870101797\n",
      "prbconv_prbarr 0.03556890262294847\n"
     ]
    }
   ],
   "source": [
    "import pandas as pd\n",
    "from scipy.stats import pearsonr\n",
    "\n",
    "crime_path = \"D:\\Ryerson Big Data Certificate\\CIND123-Data Analytics Basic Methods\\Assignment3\\crime.csv\"\n",
    "\n",
    "df = pd.read_csv(crime_path)\n",
    "data = df.dropna()\n",
    "\n",
    "data['prbpris'] = pd.to_numeric(data['prbpris'], errors='coerce')\n",
    "data['taxpc'] = pd.to_numeric(data['taxpc'], errors='coerce')\n",
    "data['prbconv'] = pd.to_numeric(data['prbconv'], errors='coerce')\n",
    "data['prbarr'] = pd.to_numeric(data['prbarr'], errors='coerce')\n",
    "\n",
    "prbpris_taxpc, _ = pearsonr(data['prbpris'], data['taxpc'])\n",
    "prbconv_prbarr, _ = pearsonr(data['prbconv'], data['prbarr'])\n",
    "\n",
    "print(\"prbpris_taxpc\", prbpris_taxpc)\n",
    "print(\"prbconv_prbarr\", prbconv_prbarr)\n"
   ]
  },
  {
   "cell_type": "markdown",
   "id": "8e843729",
   "metadata": {},
   "source": [
    "What conclusions can you draw? Write your reasons as comments."
   ]
  },
  {
   "cell_type": "code",
   "execution_count": null,
   "id": "3c9d2b7e",
   "metadata": {},
   "outputs": [],
   "source": [
    "\"\"\"\n",
    "The prbpris and taxpc correlation is -0.112, which indicates a very weak negative relationship. This means the tax per capita\n",
    "will sightly decrease when the probability of receving a prison sentence increase.\n",
    "The prbconv and prbarr correlation is 0.0355, which indicates a weak positive relationship. This means the probability of convintion\n",
    "will slightly increase when the probability of arrest slightly increase.\n",
    "\"\"\""
   ]
  },
  {
   "cell_type": "markdown",
   "id": "cc008c3b",
   "metadata": {},
   "source": [
    "<p style=\"font-size: 20px; font-weight: bold;\">Q2g (10 points)</p>\n",
    "\n",
    "Display the correlation matrix of the variables: `prbconv`, `prbpris`, `density`, `polpc`."
   ]
  },
  {
   "cell_type": "code",
   "execution_count": 7,
   "id": "dfb57ce9",
   "metadata": {},
   "outputs": [
    {
     "name": "stdout",
     "output_type": "stream",
     "text": [
      "          prbconv   prbpris   density     polpc\n",
      "prbconv  1.000000 -0.037340 -0.115555  0.449635\n",
      "prbpris -0.037340  1.000000  0.164663 -0.057452\n",
      "density -0.115555  0.164663  1.000000 -0.039696\n",
      "polpc    0.449635 -0.057452 -0.039696  1.000000\n"
     ]
    }
   ],
   "source": [
    "df = pd.read_csv(crime_path)\n",
    "data = df[['prbconv', 'prbpris', 'density', 'polpc']].apply(pd.to_numeric, errors='coerce')\n",
    "data = data.dropna()\n",
    "matrix = data.corr()\n",
    "print(matrix)"
   ]
  },
  {
   "cell_type": "markdown",
   "id": "39991e01",
   "metadata": {},
   "source": [
    "Write what conclusion you can draw, as comments."
   ]
  },
  {
   "cell_type": "code",
   "execution_count": null,
   "id": "ae27a893",
   "metadata": {},
   "outputs": [],
   "source": [
    "\"\"\"\n",
    "The probality between prbpris and prbconv is -0.03734, indicating a very slight negative correlation.\n",
    "The probality between density and prbconv is -0.1155, indicating a very slight negative correlation.\n",
    "The probality between polpc and prbconv is 0.4496, indicating a slight positive correlation.\n",
    "The probality between density and prbpris is 0.1646, indicating a slight positive correlation.\n",
    "The probability between polpc and prbpris is -0.057, indicating a very slight negative correlation.\n",
    "The probability between polpc and density is -0.0396, indicating a very slight negative correlation.\n",
    "\"\"\""
   ]
  },
  {
   "cell_type": "markdown",
   "id": "9c5a6dbc",
   "metadata": {},
   "source": [
    "<p style=\"font-size: 24px; font-weight: bold;\">Question 3 (15 points)</p>\n",
    "\n",
    "Many times in data analysis, we need a method that relies on repeated random sampling to obtain numerical results. The underlying concept is to use randomness to solve problems. In fact, this is a mathematical technique, which is used to estimate the possible outcomes of an uncertain event and is called the `Monte Carlo` Method.\n",
    "\n",
    "Consider that We roll a die 10 times and we want to know the probability of getting more than 3 times of even numbers. This is a problem for the Binomial distribution, but suppose we don’t know anything about Binomial distribution. We can easily solve this problem with a Monte Carlo Simulation.\n"
   ]
  },
  {
   "cell_type": "markdown",
   "id": "0bed38d9",
   "metadata": {},
   "source": [
    "<p style=\"font-size: 20px; font-weight: bold;\">Q3a (5 points)</p>\n",
    "\n",
    "The Monte Carlo Method uses random numbers to simulate some process. Here the process is rolling a die 20 times. Assume the die is fair. What is the probability of success or getting an even number in rolling the die once?"
   ]
  },
  {
   "cell_type": "code",
   "execution_count": 10,
   "id": "20ec158d",
   "metadata": {},
   "outputs": [
    {
     "name": "stdout",
     "output_type": "stream",
     "text": [
      "Monte Carlo Simulation probability:  0.9985\n",
      "Binomial Distribution probability:  0.9987115859985352\n"
     ]
    }
   ],
   "source": [
    "import random\n",
    "\n",
    "num_simulations = 10000\n",
    "num_rolls = 20\n",
    "event_count_success = 0\n",
    "\n",
    "for _ in range(num_simulations):\n",
    "    even_count = 0\n",
    "    for _ in range(num_rolls):\n",
    "        roll = random.randint(1, 6)\n",
    "        if roll%2 == 0:\n",
    "            even_count += 1\n",
    "    \n",
    "    if even_count > 3:\n",
    "        event_count_success += 1\n",
    "\n",
    "probability = event_count_success/num_simulations\n",
    "print(\"Monte Carlo Simulation probability: \", probability)\n",
    "\n",
    "# Use Binomial Distribution to verify this\n",
    "import scipy.stats as stats\n",
    "\n",
    "n = 20\n",
    "p = 0.5\n",
    "\n",
    "prob_more_than_3 = 1 - stats.binom.cdf(3, n, p)\n",
    "print(\"Binomial Distribution probability: \", prob_more_than_3)"
   ]
  },
  {
   "cell_type": "markdown",
   "id": "5d8e0c1c",
   "metadata": {},
   "source": [
    "<p style=\"font-size: 20px; font-weight: bold;\">Q3b (10 points)</p>\n",
    "\n",
    "Define a function named one.trial, that simulates a single round of rolling a die 20 times and returns true if the number of even numbers is > 5."
   ]
  },
  {
   "cell_type": "code",
   "execution_count": 12,
   "id": "66b61d9f",
   "metadata": {},
   "outputs": [
    {
     "name": "stdout",
     "output_type": "stream",
     "text": [
      "True\n"
     ]
    }
   ],
   "source": [
    "import random\n",
    "\n",
    "def one_trail():\n",
    "    even_count = 0\n",
    "\n",
    "    for _ in range(20):\n",
    "        roll = random.randint(1, 6)\n",
    "        if roll%2 == 0:\n",
    "            even_count += 1\n",
    "    return even_count > 5\n",
    "\n",
    "result = one_trail()\n",
    "print(result)"
   ]
  }
 ],
 "metadata": {
  "kernelspec": {
   "display_name": "Python 3",
   "language": "python",
   "name": "python3"
  },
  "language_info": {
   "codemirror_mode": {
    "name": "ipython",
    "version": 3
   },
   "file_extension": ".py",
   "mimetype": "text/x-python",
   "name": "python",
   "nbconvert_exporter": "python",
   "pygments_lexer": "ipython3",
   "version": "3.9.5"
  },
  "toc": {
   "base_numbering": 1,
   "nav_menu": {},
   "number_sections": true,
   "sideBar": true,
   "skip_h1_title": false,
   "title_cell": "Table of Contents",
   "title_sidebar": "Contents",
   "toc_cell": false,
   "toc_position": {},
   "toc_section_display": true,
   "toc_window_display": false
  }
 },
 "nbformat": 4,
 "nbformat_minor": 5
}
