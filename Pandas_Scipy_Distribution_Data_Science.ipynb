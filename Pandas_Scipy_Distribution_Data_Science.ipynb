{
 "cells": [
  {
   "cell_type": "markdown",
   "id": "917ab9f1",
   "metadata": {},
   "source": [
    "<p style=\"text-align: center; font-size: 28px; font-weight: bold;\">CIND 123</p>\n",
    "<p style=\"text-align: center; font-size: 24px; font-weight: bold;\">Data Analytics: Basic Methods</p>\n",
    "<p style=\"text-align: center; font-size: 24px; font-weight: bold;\">Assignment 2 (10%)</p>\n",
    "\n",
    "**Yinghao Li**  \n",
    "**CIND123 DHC 501342626**\n",
    "\n",
    "<p style=\"text-align: center; font-size: 20px; font-weight: bold;\">Instructions</p>\n",
    " \n",
    "This assignment can be submitted using either Python or R, whichever you prefer.\n",
    "\n",
    "- **If using R**, you must submit an RMD file with its knitted file (PDF or HTML). To learn more about knitting and R markdown, visit [R Markdown](http://rmarkdown.rstudio.com).\n",
    "- **If using Python**, you must submit an IPYNB file and its exported PDF/HTML with clearly printed/shown answers.\n",
    "\n",
    "Failing to submit both files ({RMD + knitted PDF/HTML} OR {IPYNB + PDF/HTML}) will be subject to a 30% mark deduction.\n",
    "\n",
    "**NOTE:** IF YOU USE `R STUDIO`, YOU SHOULD NEVER HAVE `install.packages` IN YOUR CODE; OTHERWISE, THE `Knit` OPTION WILL RAISE AN ERROR. COMMENT OUT ALL PACKAGE INSTALLATIONS BUT KEEP `library()` CALLS.\n",
    "\n",
    "**NOTE:** If you answer the questions in R, all your answers should be in R (ignore Python questions). If you answer the questions in Python, all your answers should be in Python (ignore R questions). You are not allowed to switch languages in this assignment."
   ]
  },
  {
   "cell_type": "markdown",
   "id": "9c2aaa63",
   "metadata": {},
   "source": [
    "<p style=\"font-size: 24px; font-weight: bold;\">Question 1 (50 points)</p>\n",
    "\n",
    "The Titanic Passenger Survival Data Set provides information on the fate of passengers on the fatal maiden voyage of the ocean liner “Titanic.” The dataset is available from the Department of Biostatistics at the Vanderbilt University School of Medicine ([Titanic Dataset](https://biostat.app.vumc.org/wiki/pub/Main/DataSets/titanic3.csv)) in several formats. Read the Titanic Data Set `titanicDataset` using the appropriate commands in `R` or `Python`.\n",
    "\n",
    "https://biostat.app.vumc.org/wiki/pub/Main/DataSets/titanic3.csv\n",
    "\n",
    "| Column Name | Description                         | Values                                  |\n",
    "|-------------|-------------------------------------|-----------------------------------------|\n",
    "| survival    | Survival                            | 0 = No, 1 = Yes                         |\n",
    "| pclass      | Ticket class                        | 1 = 1st, 2 = 2nd, 3 = 3rd               |\n",
    "| sex         | Sex                                 |                                         |\n",
    "| age         | Age in years                        |                                         |\n",
    "| sibsp       | # of siblings / spouses aboard the Titanic |                                         |\n",
    "| parch       | # of parents / children aboard the Titanic |                                         |\n",
    "| ticket      | Ticket number                       |                                         |\n",
    "| fare        | Passenger fare                      |                                         |\n",
    "| cabin       | Cabin number                        |                                         |\n",
    "| embarked    | Port of Embarkation                 | C = Cherbourg, Q = Queenstown, S = Southampton |"
   ]
  },
  {
   "cell_type": "markdown",
   "id": "b8c8b022",
   "metadata": {},
   "source": [
    "<p style=\"font-size: 20px; font-weight: bold;\">Q1a (5 points)</p>\n",
    "\n",
    "Extract and show the columns `name`, `fare`, `sibsp`, and `parch` into a new data frame (or DataFrame in Python) named `titanicSubset`.\n",
    "\n",
    "Show the `head` of the dataframe."
   ]
  },
  {
   "cell_type": "code",
   "execution_count": 5,
   "id": "7cad6e58",
   "metadata": {},
   "outputs": [
    {
     "name": "stdout",
     "output_type": "stream",
     "text": [
      "                                                 name      fare  sibsp  parch\n",
      "0                       Allen, Miss. Elisabeth Walton  211.3375      0      0\n",
      "1                      Allison, Master. Hudson Trevor  151.5500      1      2\n",
      "2                        Allison, Miss. Helen Loraine  151.5500      1      2\n",
      "3                Allison, Mr. Hudson Joshua Creighton  151.5500      1      2\n",
      "4     Allison, Mrs. Hudson J C (Bessie Waldo Daniels)  151.5500      1      2\n",
      "...                                               ...       ...    ...    ...\n",
      "1304                             Zabour, Miss. Hileni   14.4542      1      0\n",
      "1305                            Zabour, Miss. Thamine   14.4542      1      0\n",
      "1306                        Zakarian, Mr. Mapriededer    7.2250      0      0\n",
      "1307                              Zakarian, Mr. Ortin    7.2250      0      0\n",
      "1308                               Zimmerman, Mr. Leo    7.8750      0      0\n",
      "\n",
      "[1309 rows x 4 columns]\n",
      "==================================\n",
      "   pclass  survived                                             name     sex  \\\n",
      "0       1         1                    Allen, Miss. Elisabeth Walton  female   \n",
      "1       1         1                   Allison, Master. Hudson Trevor    male   \n",
      "2       1         0                     Allison, Miss. Helen Loraine  female   \n",
      "3       1         0             Allison, Mr. Hudson Joshua Creighton    male   \n",
      "4       1         0  Allison, Mrs. Hudson J C (Bessie Waldo Daniels)  female   \n",
      "\n",
      "     age  sibsp  parch  ticket      fare    cabin embarked boat   body  \\\n",
      "0  29.00      0      0   24160  211.3375       B5        S    2    NaN   \n",
      "1   0.92      1      2  113781  151.5500  C22 C26        S   11    NaN   \n",
      "2   2.00      1      2  113781  151.5500  C22 C26        S  NaN    NaN   \n",
      "3  30.00      1      2  113781  151.5500  C22 C26        S  NaN  135.0   \n",
      "4  25.00      1      2  113781  151.5500  C22 C26        S  NaN    NaN   \n",
      "\n",
      "                         home.dest  \n",
      "0                     St Louis, MO  \n",
      "1  Montreal, PQ / Chesterville, ON  \n",
      "2  Montreal, PQ / Chesterville, ON  \n",
      "3  Montreal, PQ / Chesterville, ON  \n",
      "4  Montreal, PQ / Chesterville, ON  \n"
     ]
    }
   ],
   "source": [
    "import pandas as pd\n",
    "\n",
    "titanic = \"D:\\\\Ryerson Big Data Certificate\\\\CIND123-Data Analytics Basic Methods\\\\Assignment2\\\\titanic.csv\"\n",
    "df = pd.read_csv(titanic)\n",
    "titanicSubset = df.loc[:,['name', 'fare', 'sibsp','parch']]\n",
    "print(titanicSubset)\n",
    "print(\"==================================\")\n",
    "print(df.head())"
   ]
  },
  {
   "cell_type": "markdown",
   "id": "605272f4",
   "metadata": {},
   "source": [
    "<p style=\"font-size: 20px; font-weight: bold;\">Q1b (5 points)</p>\n",
    "\n",
    "Numerical data: Calculate the total number of passengers who were children (age less than 18) and survived. Use the `count()` function from the `dplyr` package in R or appropriate `pandas` functions in Python.\n",
    "\n",
    "Print the value."
   ]
  },
  {
   "cell_type": "code",
   "execution_count": 8,
   "id": "38c04e42",
   "metadata": {},
   "outputs": [
    {
     "name": "stdout",
     "output_type": "stream",
     "text": [
      "81\n"
     ]
    }
   ],
   "source": [
    "survived = df[(df['age']<18)&(df['survived']==1)]\n",
    "print(survived.shape[0])"
   ]
  },
  {
   "cell_type": "markdown",
   "id": "8e027a13",
   "metadata": {},
   "source": [
    "<p style=\"font-size: 20px; font-weight: bold;\">Q1c (5 points)</p>\n",
    "\n",
    "Categorical data: Calculate the number of passengers by sex using the `count()` and `group_by()` functions from the `dplyr` package in R, or equivalent `pandas` functions in Python.\n",
    "\n",
    "Print the value."
   ]
  },
  {
   "cell_type": "code",
   "execution_count": 9,
   "id": "b4dd06ad",
   "metadata": {},
   "outputs": [
    {
     "name": "stdout",
     "output_type": "stream",
     "text": [
      "sex\n",
      "male      843\n",
      "female    466\n",
      "Name: count, dtype: int64\n"
     ]
    }
   ],
   "source": [
    "sex_count = df['sex'].value_counts()\n",
    "print(sex_count)"
   ]
  },
  {
   "cell_type": "markdown",
   "id": "a97273b5",
   "metadata": {},
   "source": [
    "<p style=\"font-size: 20px; font-weight: bold;\">Q1d (5 points)</p>\n",
    "\n",
    "Find the passengers in the data frame whose age information is missing, and fill them with the median age of passengers.\n",
    "\n",
    "Show the head of the dataframe."
   ]
  },
  {
   "cell_type": "code",
   "execution_count": 16,
   "id": "1ab2157a",
   "metadata": {},
   "outputs": [
    {
     "name": "stdout",
     "output_type": "stream",
     "text": [
      "median age:  28.0\n",
      "=================================\n",
      "   pclass  survived                                             name     sex  \\\n",
      "0       1         1                    Allen, Miss. Elisabeth Walton  female   \n",
      "1       1         1                   Allison, Master. Hudson Trevor    male   \n",
      "2       1         0                     Allison, Miss. Helen Loraine  female   \n",
      "3       1         0             Allison, Mr. Hudson Joshua Creighton    male   \n",
      "4       1         0  Allison, Mrs. Hudson J C (Bessie Waldo Daniels)  female   \n",
      "\n",
      "     age  sibsp  parch  ticket      fare    cabin embarked boat   body  \\\n",
      "0  29.00      0      0   24160  211.3375       B5        S    2    NaN   \n",
      "1   0.92      1      2  113781  151.5500  C22 C26        S   11    NaN   \n",
      "2   2.00      1      2  113781  151.5500  C22 C26        S  NaN    NaN   \n",
      "3  30.00      1      2  113781  151.5500  C22 C26        S  NaN  135.0   \n",
      "4  25.00      1      2  113781  151.5500  C22 C26        S  NaN    NaN   \n",
      "\n",
      "                         home.dest  \n",
      "0                     St Louis, MO  \n",
      "1  Montreal, PQ / Chesterville, ON  \n",
      "2  Montreal, PQ / Chesterville, ON  \n",
      "3  Montreal, PQ / Chesterville, ON  \n",
      "4  Montreal, PQ / Chesterville, ON  \n"
     ]
    }
   ],
   "source": [
    "age_median = df['age'].median()\n",
    "print(\"median age: \", age_median)\n",
    "print(\"=================================\")\n",
    "df['age'].fillna(age_median)\n",
    "print(df.head())"
   ]
  },
  {
   "cell_type": "markdown",
   "id": "69991731",
   "metadata": {},
   "source": [
    "<p style=\"font-size: 20px; font-weight: bold;\">Q1e (5 points)</p>\n",
    "\n",
    "Use the `aggregate()` function to calculate the survival count of each passenger class (`pclass`) and calculate the survival rate of passengers in each class. Draw a conclusion on which passenger class has the highest survival rate.\n",
    "\n",
    "Print the value and type your respond as a comment."
   ]
  },
  {
   "cell_type": "code",
   "execution_count": 21,
   "id": "0edbb6f3",
   "metadata": {},
   "outputs": [
    {
     "name": "stdout",
     "output_type": "stream",
     "text": [
      "       survived      \n",
      "            sum count\n",
      "pclass               \n",
      "1           200   323\n",
      "2           119   277\n",
      "3           181   709\n",
      "=======================\n",
      "       survived       survived_rate\n",
      "            sum count              \n",
      "pclass                             \n",
      "1           200   323      0.619195\n",
      "2           119   277      0.429603\n",
      "3           181   709      0.255289\n"
     ]
    },
    {
     "data": {
      "text/plain": [
       "'\\nAccording to the statistics result, it is very clear that the first class has the highest survival rate, which is 61.92%.\\nThe second class has a survival rate of 42.96%.\\nThe third class has the lowest survival rate, which is 25.52%.\\n'"
      ]
     },
     "execution_count": 21,
     "metadata": {},
     "output_type": "execute_result"
    }
   ],
   "source": [
    "survived_sum_count = df.groupby('pclass').aggregate({'survived':['sum', 'count']})\n",
    "print(survived_sum_count)\n",
    "print(\"=======================\")\n",
    "\n",
    "survived_sum_count['survived_rate'] = survived_sum_count['survived']['sum']/survived_sum_count['survived']['count']\n",
    "print(survived_sum_count)\n",
    "\"\"\"\n",
    "According to the statistics result, it is very clear that the first class has the highest survival rate, which is 61.92%.\n",
    "The second class has a survival rate of 42.96%.\n",
    "The third class has the lowest survival rate, which is 25.52%.\n",
    "\"\"\""
   ]
  },
  {
   "cell_type": "markdown",
   "id": "000e74af",
   "metadata": {},
   "source": [
    "<p style=\"font-size: 20px; font-weight: bold;\">Q1f (5 points)</p>\n",
    "\n",
    "Use a boxplot to display the distribution of fare for each sex. Infer which gender tends to pay higher fares.\n",
    "\n",
    "Have the plot and then your comment."
   ]
  },
  {
   "cell_type": "code",
   "execution_count": 25,
   "id": "eb45605b",
   "metadata": {},
   "outputs": [
    {
     "data": {
      "image/png": "[encoded data removed]",
      "text/plain": [
       "<Figure size 1000x600 with 1 Axes>"
      ]
     },
     "metadata": {},
     "output_type": "display_data"
    },
    {
     "data": {
      "text/plain": [
       "'\\nAccording to the boxplot we can see that the median fare of female is higher than male,\\nalso the IQR of female is higher than male.\\nThus, we have the conclusion that female tend to pay higher fare than male.\\n'"
      ]
     },
     "execution_count": 25,
     "metadata": {},
     "output_type": "execute_result"
    }
   ],
   "source": [
    "import matplotlib.pyplot as plt\n",
    "import seaborn as sns\n",
    "\n",
    "plt.figure(figsize=(10, 6))\n",
    "sns.boxplot(x='sex', y='fare', data=df)\n",
    "plt.title('Distribution of fare for each sex')\n",
    "plt.xlabel('Sex')\n",
    "plt.ylabel('Fare')\n",
    "\n",
    "plt.show()\n",
    "\n",
    "\"\"\"\n",
    "According to the boxplot we can see that the median fare of female is higher than male,\n",
    "also the IQR of female is higher than male.\n",
    "Thus, we have the conclusion that female tend to pay higher fare than male.\n",
    "\"\"\""
   ]
  },
  {
   "cell_type": "markdown",
   "id": "b4bf982c",
   "metadata": {},
   "source": [
    "<p style=\"font-size: 20px; font-weight: bold;\">Q1g (5 points)</p>\n",
    "\n",
    "Calculate the mean fare for each sex. Describe if the calculation aligns with the boxplot.\n",
    "\n",
    "Print the value and comment on it."
   ]
  },
  {
   "cell_type": "code",
   "execution_count": 26,
   "id": "02ee7bfe",
   "metadata": {},
   "outputs": [
    {
     "name": "stdout",
     "output_type": "stream",
     "text": [
      "sex\n",
      "female    46.198097\n",
      "male      26.154601\n",
      "Name: fare, dtype: float64\n"
     ]
    }
   ],
   "source": [
    "mean_fare = df.groupby('sex')['fare'].mean()\n",
    "print(mean_fare)\n",
    "\"\"\"\n",
    "The female mean is higher than male, which is aligns with the boxplot.\n",
    "\"\"\""
   ]
  },
  {
   "cell_type": "markdown",
   "id": "2ba4beb8",
   "metadata": {},
   "source": [
    "<p style=\"font-size: 20px; font-weight: bold;\">Q1h (10 points)</p>\n",
    "\n",
    "Use a `for` loop and `if` control statements to list the names of women, aged 50 or older, who embarked from Southampton (S) on the Titanic. Ensure these women have non-empty home destinations.\n",
    "\n",
    "Print first 5 people only."
   ]
  },
  {
   "cell_type": "code",
   "execution_count": 28,
   "id": "dcaa3cf4",
   "metadata": {},
   "outputs": [
    {
     "name": "stdout",
     "output_type": "stream",
     "text": [
      "['Andrews, Miss. Kornelia Theodosia', 'Appleton, Mrs. Edward Dale (Charlotte Lamson)', 'Bonnell, Miss. Elizabeth', 'Brown, Mrs. John Murray (Caroline Lane Lamson)', 'Cavendish, Mrs. Tyrell William (Julia Florence Siegel)']\n"
     ]
    }
   ],
   "source": [
    "name = []\n",
    "\n",
    "for num, row in df.iterrows():\n",
    "    if row['sex'] == 'female' and row['age'] >= 50 and row['embarked'] == 'S' and pd.notna(row['home.dest']):\n",
    "        name.append(row['name'])\n",
    "print(name[0:5])"
   ]
  },
  {
   "cell_type": "markdown",
   "id": "9c0d00eb",
   "metadata": {},
   "source": [
    "\n",
    "<p style=\"font-size: 20px; font-weight: bold;\">Q1i (5 points)</p>\n",
    "\n",
    "Use a scatter plot to show the relation between the `fare` and `age` of passengers. Interpret the correlation between these two by looking at the plot.\n",
    "\n",
    "Have the plot and then comment on it."
   ]
  },
  {
   "cell_type": "code",
   "execution_count": 30,
   "id": "201fcc4f",
   "metadata": {},
   "outputs": [
    {
     "data": {
      "image/png": "[encoded data removed]",
      "text/plain": [
       "<Figure size 1000x600 with 1 Axes>"
      ]
     },
     "metadata": {},
     "output_type": "display_data"
    },
    {
     "data": {
      "text/plain": [
       "'\\nFrom the scatter plot, we can see there is no strong relationship betwen age and Fare.\\nMost people pay the fare at low price below 100, few people pay at 100-200,\\nonly a few people pay above 500.\\nThis phenomenon is true for all age people.\\n'"
      ]
     },
     "execution_count": 30,
     "metadata": {},
     "output_type": "execute_result"
    }
   ],
   "source": [
    "import matplotlib.pyplot as plt\n",
    "\n",
    "plt.figure(figsize=(10, 6))\n",
    "plt.scatter(df['age'], df['fare'], alpha=0.5)\n",
    "plt.title('relationship between fare and age of passengers')\n",
    "plt.xlabel('Age')\n",
    "plt.ylabel('Fare')\n",
    "plt.grid(True)\n",
    "\n",
    "plt.show()\n",
    "\n",
    "\"\"\"\n",
    "From the scatter plot, we can see there is no strong relationship betwen age and Fare.\n",
    "Most people pay the fare at low price below 100, few people pay at 100-200,\n",
    "only a few people pay above 500.\n",
    "This phenomenon is true for all age people.\n",
    "\"\"\""
   ]
  },
  {
   "cell_type": "markdown",
   "id": "ae4b3765",
   "metadata": {},
   "source": [
    "<p style=\"font-size: 24px; font-weight: bold;\">Question 2 (20 points)</p>\n",
    "\n",
    "100 computers work together in a network. Based on historical data, each computer has a probability of 0.03 of encountering a software issue. If a computer encounters an issue, it affects the network’s performance."
   ]
  },
  {
   "cell_type": "markdown",
   "id": "8ce9c1c5",
   "metadata": {},
   "source": [
    "<p style=\"font-size: 20px; font-weight: bold;\">Q2a (5 points)</p>\n",
    "\n",
    "Determine the probability that the network operates without any computer encountering a software issue.\n",
    "\n",
    "**Hint:** Use the Binomial probability formula.\n",
    "\n",
    "Print the value."
   ]
  },
  {
   "cell_type": "markdown",
   "id": "e5539fe5",
   "metadata": {},
   "source": [
    "We can use the Binomial probability formula:\n",
    "$$\n",
    "P = \\binom{n}{k} p^k (1-p)^{n-k}\n",
    "$$\n",
    "\n",
    "k=0\n",
    "n=100\n",
    "p=0.03\n",
    "\n",
    "$$ P=\\binom{100}{0} 0.03^0 0.97^{100} = 0.04755 $$\n",
    "\n",
    "So, the probability that the network operated without any computer encoutering a software issue is 4.755%."
   ]
  },
  {
   "cell_type": "markdown",
   "id": "f1f8b55a",
   "metadata": {},
   "source": [
    "\n",
    "<p style=\"font-size: 20px; font-weight: bold;\">Q2b (5 points)</p>\n",
    "\n",
    "Utilize the Binomial approximation to estimate the probability that at least 5 computers out of 100 encounter software issues.\n",
    "\n",
    "**Hint:** Use the Binomial cumulative distribution function.\n",
    "\n",
    "\n",
    "Print the value."
   ]
  },
  {
   "cell_type": "markdown",
   "id": "6dc3e989",
   "metadata": {},
   "source": [
    "The probability that at least 5 computers out of 100 encounter software issues:\n",
    "P(X>=5)=1-P(X<=4)=1-P(X=1)-P(X=2)-P(X=3)-P(X=4)\n",
    "\n",
    "Below is the python code:"
   ]
  },
  {
   "cell_type": "code",
   "execution_count": 3,
   "id": "e0d79551",
   "metadata": {},
   "outputs": [
    {
     "name": "stdout",
     "output_type": "stream",
     "text": [
      "The probability is:  0.1821451939243579\n"
     ]
    }
   ],
   "source": [
    "from scipy.stats import binom\n",
    "\n",
    "n = 100\n",
    "p = 0.03\n",
    "\n",
    "prop = binom.cdf(4, n, p)\n",
    "result = 1 - prop\n",
    "print(\"The probability is: \", result)\n"
   ]
  },
  {
   "cell_type": "markdown",
   "id": "7f7a33c7",
   "metadata": {},
   "source": [
    "\n",
    "<p style=\"font-size: 20px; font-weight: bold;\">Q2c (10 points)</p>\n",
    "\n",
    "Assume the first and second computers are independent. Calculate the conditional probability that the second computer (Computer B) encounters a software issue given that the first computer (Computer A) does not encounter any issue.\n",
    "\n",
    "**Hint:** Use the definition of conditional probability.\n",
    "\n",
    "\n",
    "Print the value."
   ]
  },
  {
   "cell_type": "markdown",
   "id": "eb4b9ee5",
   "metadata": {},
   "source": [
    "The conditional probability formula is:\n",
    "$$\n",
    "P(B \\mid A) = \\frac{P(B \\cap A)}{P(A)}\n",
    "$$\n",
    "B is the second computer encounters a software issue. B=0.03\n",
    "A is the first computer does not enounter any issue. A=0.97\n",
    "\n",
    "$$\n",
    "P(B \\mid A) = (0.03*0.97)/{0.97} = 0.03\n",
    "$$\n",
    "\n",
    "The probability that the second computer encounters a software issue given that the first computer does not encounter any issue is 3%."
   ]
  },
  {
   "cell_type": "markdown",
   "id": "dd426768",
   "metadata": {},
   "source": [
    "<p style=\"font-size: 24px; font-weight: bold;\">Question 3 (30 points)</p>\n",
    "\n",
    "On average, John receives 3 emails a day. Using `R` or `Python`, "
   ]
  },
  {
   "cell_type": "markdown",
   "id": "c993f43b",
   "metadata": {},
   "source": [
    "<p style=\"font-size: 20px; font-weight: bold;\">Q3a (5 points)</p>\n",
    "\n",
    "Calculate the probabilities that John receives 2, 3, ..., up to 9 emails in a day.\n",
    "\n",
    "Print the value."
   ]
  },
  {
   "cell_type": "code",
   "execution_count": 7,
   "id": "0d1d2807",
   "metadata": {},
   "outputs": [
    {
     "name": "stdout",
     "output_type": "stream",
     "text": [
      "The probabilities that John receives 2 emails in a day is 0.22404180765538775\n",
      "The probabilities that John receives 3 emails in a day is 0.22404180765538775\n",
      "The probabilities that John receives 4 emails in a day is 0.16803135574154082\n",
      "The probabilities that John receives 5 emails in a day is 0.10081881344492448\n",
      "The probabilities that John receives 6 emails in a day is 0.05040940672246225\n",
      "The probabilities that John receives 7 emails in a day is 0.02160403145248382\n",
      "The probabilities that John receives 8 emails in a day is 0.008101511794681432\n",
      "The probabilities that John receives 9 emails in a day is 0.002700503931560477\n"
     ]
    }
   ],
   "source": [
    "\"\"\"\n",
    "We can use the Poisson Distribution formula\n",
    "\"\"\"\n",
    "\n",
    "import math\n",
    "\n",
    "l_lambda = 3\n",
    "k = [2, 3, 4, 5, 6, 7, 8, 9]\n",
    "\n",
    "for i in k:\n",
    "    result = (l_lambda**i) * math.exp(-l_lambda) / math.factorial(i)\n",
    "    print(\"The probabilities that John receives {} emails in a day is {}\".format(i, result))"
   ]
  },
  {
   "cell_type": "markdown",
   "id": "e80b1b94",
   "metadata": {},
   "source": [
    "<p style=\"font-size: 20px; font-weight: bold;\">Q3b (5 points)</p>\n",
    "\n",
    "Determine the probability that John receives 4 emails or more in a day.\n",
    "\n",
    "Print the value."
   ]
  },
  {
   "cell_type": "markdown",
   "id": "526592ee",
   "metadata": {},
   "source": [
    "The probability that John receives 4 emails or more in a day is:\n",
    "P(X>=4)=1-P(X<=3)"
   ]
  },
  {
   "cell_type": "code",
   "execution_count": 9,
   "id": "a505cbee",
   "metadata": {},
   "outputs": [
    {
     "name": "stdout",
     "output_type": "stream",
     "text": [
      "The probability that John receives 4 emails or more in a day is:  0.35276811121776874\n"
     ]
    }
   ],
   "source": [
    "from scipy.stats import poisson\n",
    "\n",
    "l_lambda = 3\n",
    "\n",
    "prop_3 = poisson.cdf(3, l_lambda)\n",
    "result = 1 - prop_3\n",
    "print(\"The probability that John receives 4 emails or more in a day is: \", result)"
   ]
  },
  {
   "cell_type": "markdown",
   "id": "74022696",
   "metadata": {},
   "source": [
    "<p style=\"font-size: 20px; font-weight: bold;\">Q3c (20 points)</p>\n",
    "\n",
    "Compare the similarity between Binomial and Poisson distributions given the previous examples.\n",
    "\n",
    "Comment on it."
   ]
  },
  {
   "cell_type": "markdown",
   "id": "3a813625",
   "metadata": {},
   "source": [
    "Both distributions can be used to model the probability of discret events. The Poisson distribution is more suitable for modeling continuous interval events while Binomial distribution is more suitable for fixed number with an either success or fail outcome and a constant probability of success."
   ]
  },
  {
   "cell_type": "markdown",
   "id": "b10320e3",
   "metadata": {},
   "source": [
    "<p style=\"font-size: 18px; font-weight: bold;\">Q3c1 (5 points)</p>\n",
    "\n",
    "Generate 50,000 samples for a Binomial random variable using parameters described in Question 2.\n",
    "\n",
    "No need to print anything. Just the code."
   ]
  },
  {
   "cell_type": "code",
   "execution_count": 12,
   "id": "019d4bc3",
   "metadata": {},
   "outputs": [],
   "source": [
    "import numpy as np\n",
    "\n",
    "n = 100\n",
    "p = 0.03\n",
    "N = 50000\n",
    "\n",
    "samples_binomial = np.random.binomial(n, p, N)"
   ]
  },
  {
   "cell_type": "markdown",
   "id": "e6aa6ef4",
   "metadata": {},
   "source": [
    "<p style=\"font-size: 18px; font-weight: bold;\">Q3c2 (5 points)</p>\n",
    "\n",
    "Generate 50,000 samples for a Poisson random variable using parameters described in Question 3.\n",
    "\n",
    "No need to print anything. Just the code."
   ]
  },
  {
   "cell_type": "code",
   "execution_count": 13,
   "id": "0681a470",
   "metadata": {},
   "outputs": [],
   "source": [
    "import numpy as np\n",
    "\n",
    "l_lambda = 3\n",
    "N = 50000\n",
    "\n",
    "samples_poisson = np.random.poisson(l_lambda, N)"
   ]
  },
  {
   "cell_type": "markdown",
   "id": "108a76e1",
   "metadata": {},
   "source": [
    "<p style=\"font-size: 18px; font-weight: bold;\">Q3c3 (10 points)</p>\n",
    "\n",
    "Illustrate how well the Poisson probability distribution approximates the Binomial probability distribution in the previous questions.\n",
    "\n",
    "**Hint**: Use histograms or other visualization tools."
   ]
  },
  {
   "cell_type": "code",
   "execution_count": 19,
   "id": "f49ab772",
   "metadata": {},
   "outputs": [
    {
     "data": {
      "image/png": "[encoded data removed]",
      "text/plain": [
       "<Figure size 640x480 with 1 Axes>"
      ]
     },
     "metadata": {},
     "output_type": "display_data"
    },
    {
     "data": {
      "text/plain": [
       "'\\nWhen n=50000, which is a large sample number, the Poisson distribution provides a good approximation of the Binomial distribution.\\nBoth distributions have peaks around 3 and the shapes of both are similiar.\\n'"
      ]
     },
     "execution_count": 19,
     "metadata": {},
     "output_type": "execute_result"
    }
   ],
   "source": [
    "\"\"\"\n",
    "Use the previously generated 50000 sample from both the Binomial and Poisson to draw the histograms to illustrate.\n",
    "\"\"\"\n",
    "\n",
    "import matplotlib.pyplot as plt\n",
    "\n",
    "plt.hist(samples_binomial, bins=range(0, max(samples_binomial)+2), density=True, alpha=0.5, color='b', edgecolor='k', label='Binomial')\n",
    "plt.hist(samples_poisson, bins=range(0, max(samples_poisson)+2), density=True, alpha=0.5, color='r', edgecolor='k', label='Poisson')\n",
    "plt.title(\"Binomial and Poisson Comparisons\")\n",
    "plt.xlabel('samples')\n",
    "plt.ylabel('Probability')\n",
    "plt.legend()\n",
    "plt.show()\n",
    "\n",
    "\"\"\"\n",
    "When n=50000, which is a large sample number, the Poisson distribution provides a good approximation of the Binomial distribution.\n",
    "Both distributions have peaks around 3 and the shapes of both are similiar.\n",
    "\"\"\""
   ]
  }
 ],
 "metadata": {
  "kernelspec": {
   "display_name": "Python 3 (ipykernel)",
   "language": "python",
   "name": "python3"
  },
  "language_info": {
   "codemirror_mode": {
    "name": "ipython",
    "version": 3
   },
   "file_extension": ".py",
   "mimetype": "text/x-python",
   "name": "python",
   "nbconvert_exporter": "python",
   "pygments_lexer": "ipython3",
   "version": "3.11.5"
  },
  "toc": {
   "base_numbering": 1,
   "nav_menu": {},
   "number_sections": true,
   "sideBar": true,
   "skip_h1_title": false,
   "title_cell": "Table of Contents",
   "title_sidebar": "Contents",
   "toc_cell": false,
   "toc_position": {},
   "toc_section_display": true,
   "toc_window_display": false
  }
 },
 "nbformat": 4,
 "nbformat_minor": 5
}
