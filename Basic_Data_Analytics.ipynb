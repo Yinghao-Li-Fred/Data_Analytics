{
 "cells": [
  {
   "cell_type": "markdown",
   "id": "917ab9f1",
   "metadata": {},
   "source": [
    "<p style=\"text-align: center; font-size: 28px; font-weight: bold;\">CIND 123</p>\n",
    "<p style=\"text-align: center; font-size: 24px; font-weight: bold;\">Data Analytics: Basic Methods</p>\n",
    "<p style=\"text-align: center; font-size: 24px; font-weight: bold;\">Assignment 1 (10%)</p>\n",
    "\n",
    "**Yinghao Li**  \n",
    "**CIND123 501342626**\n",
    "\n",
    "<p style=\"text-align: center; font-size: 20px; font-weight: bold;\">Instructions</p>\n",
    " \n",
    "This assignment can be submitted using either Python or R, whichever you prefer.\n",
    "\n",
    "- **If using R**, you must submit an RMD file with its knitted file (PDF or HTML). To learn more about knitting and R markdown, visit [R Markdown](http://rmarkdown.rstudio.com).\n",
    "- **If using Python**, you must submit an IPYNB file and its exported PDF/HTML with clearly printed/shown answers.\n",
    "\n",
    "Failing to submit both files ({RMD + knitted PDF/HTML} OR {IPYNB + PDF/HTML}) will be subject to a 30% mark deduction.\n",
    "\n",
    "**NOTE:** IF YOU USE `R STUDIO`, YOU SHOULD NEVER HAVE `install.packages` IN YOUR CODE; OTHERWISE, THE `Knit` OPTION WILL RAISE AN ERROR. COMMENT OUT ALL PACKAGE INSTALLATIONS BUT KEEP `library()` CALLS.\n",
    "\n",
    "**NOTE:** If you answer the questions in R, all your answers should be in R (ignore Python questions). If you answer the questions in Python, all your answers should be in Python (ignore R questions). You are not allowed to switch languages in this assignment."
   ]
  },
  {
   "cell_type": "markdown",
   "id": "944a288e",
   "metadata": {},
   "source": [
    "<p style=\"font-size: 24px; font-weight: bold;\">Question 1 (50 points)</p>\n",
    "\n",
    "<p style=\"font-size: 20px; font-weight: bold;\">Q1a (15 points)</p>\n",
    "\n",
    "Create and print a vector `x` (or list in Python) with all odd numbers from 5 to 120 and a vector `y` containing multiples of 5 in the same range.\n",
    "\n",
    "**HINT:** use `seq()` in R or `range()` in Python."
   ]
  },
  {
   "cell_type": "code",
   "execution_count": 2,
   "id": "a28c548f",
   "metadata": {},
   "outputs": [
    {
     "name": "stdout",
     "output_type": "stream",
     "text": [
      "[5, 7, 9, 11, 13, 15, 17, 19, 21, 23, 25, 27, 29, 31, 33, 35, 37, 39, 41, 43, 45, 47, 49, 51, 53, 55, 57, 59, 61, 63, 65, 67, 69, 71, 73, 75, 77, 79, 81, 83, 85, 87, 89, 91, 93, 95, 97, 99, 101, 103, 105, 107, 109, 111, 113, 115, 117, 119]\n",
      "[5, 10, 15, 20, 25, 30, 35, 40, 45, 50, 55, 60, 65, 70, 75, 80, 85, 90, 95, 100, 105, 110, 115, 120]\n"
     ]
    }
   ],
   "source": [
    "x = list(range(5, 121, 2))\n",
    "print(x)\n",
    "y = list(range(5, 121, 5))\n",
    "print(y)"
   ]
  },
  {
   "cell_type": "markdown",
   "id": "2f94d82e",
   "metadata": {},
   "source": [
    "Calculate the sum of the lengths of the vectors `x` and `y`.\n",
    "\n",
    "**HINT:** use `length()` in R or `len()` in Python.\n"
   ]
  },
  {
   "cell_type": "code",
   "execution_count": 4,
   "id": "9403c610",
   "metadata": {},
   "outputs": [
    {
     "name": "stdout",
     "output_type": "stream",
     "text": [
      "82\n",
      "58\n",
      "24\n"
     ]
    }
   ],
   "source": [
    "sum_lengths = len(x)+len(y)\n",
    "print(sum_lengths)"
   ]
  },
  {
   "cell_type": "markdown",
   "id": "247290c1",
   "metadata": {},
   "source": [
    "<p style=\"font-size: 20px; font-weight: bold;\">Q1b (15 points)</p>\n",
    "\n",
    "Create a new vector (or list in Python), `y_cube`, with the cube of elements at indices 2, 4, 6, 10, 15, 18, 21, and 25 from the variable `y`.\n",
    "\n",
    "**HINT:** Use indexing rather than a for loop."
   ]
  },
  {
   "cell_type": "code",
   "execution_count": 17,
   "id": "4487f024",
   "metadata": {},
   "outputs": [
    {
     "name": "stdout",
     "output_type": "stream",
     "text": [
      "[5, 10, 15, 20, 25, 30, 35, 40, 45, 50, 55, 60, 65, 70, 75, 80, 85, 90, 95, 100, 105, 110, 115, 120]\n",
      "[1000, 8000, 27000, 125000, 421875, 729000, 1157625]\n"
     ]
    }
   ],
   "source": [
    "print(y)\n",
    "# y only contains 24 elements, and in python list the index starts from 0 so remove 'y**[24]**3' to avoid error\n",
    "y_cube = [y[1]**3, y[3]**3, y[5]**3, y[9]**3, y[14]**3, y[17]**3, y[20]**3]\n",
    "print(y_cube)"
   ]
  },
  {
   "cell_type": "markdown",
   "id": "b923aa91",
   "metadata": {},
   "source": [
    "Calculate the mean and median of the LAST five values from `y_cube`."
   ]
  },
  {
   "cell_type": "code",
   "execution_count": 26,
   "id": "7651b1b0",
   "metadata": {},
   "outputs": [
    {
     "name": "stdout",
     "output_type": "stream",
     "text": [
      "492100\n",
      "421875\n"
     ]
    }
   ],
   "source": [
    "import statistics\n",
    "y_mean = statistics.mean(y_cube[-5:])\n",
    "print(y_mean)\n",
    "y_median = statistics.median(y_cube[-5:])\n",
    "print(y_median)"
   ]
  },
  {
   "cell_type": "markdown",
   "id": "6831bae1",
   "metadata": {},
   "source": [
    "<p style=\"font-size: 20px; font-weight: bold;\">Q1c (10 points)</p>\n",
    "\n",
    "For a given factor variable\n",
    "\n",
    "`factorVar <- factor(c(\"2.5\", \"7.1\", \"6.3\", \"4.8\"))` in `R` or\n",
    "\n",
    "`factorVar = [\"2.5\", \"7.1\", \"6.3\", \"4.8\"]` in `Python`, \n",
    "\n",
    "would it be correct to use the following commands to convert factor to number?\n",
    "\n",
    "`as.numeric(factorVar)` in R or `map(float, factorVar)` in Python.\n",
    "\n",
    "If not, explain your answer and provide the correct one."
   ]
  },
  {
   "cell_type": "code",
   "execution_count": 27,
   "id": "9bdaf4a7",
   "metadata": {},
   "outputs": [
    {
     "name": "stdout",
     "output_type": "stream",
     "text": [
      "[2.5, 7.1, 6.3, 4.8]\n"
     ]
    }
   ],
   "source": [
    "# Explain it in plain text. If you think it is not correct, what is the correct one?\n",
    "'''In Python, map(float, factorVar) is the correct way of converting factor to number, map function accepts two arguments:\n",
    "a function and an iterable, float is a function which turns an object into float, and the second iterator is the object. The\n",
    "complete code to convert factor to number is as follow:\n",
    "'''\n",
    "factorVar = [\"2.5\", \"7.1\", \"6.3\", \"4.8\"]\n",
    "list_factorVar = list(map(float, factorVar))\n",
    "print(list_factorVar)"
   ]
  },
  {
   "cell_type": "markdown",
   "id": "8a6f68a4",
   "metadata": {},
   "source": [
    "<p style=\"font-size: 20px; font-weight: bold;\">Q1d (10 points)</p>\n",
    "\n",
    "A comma-separated values file `dataset.csv` consists of missing values represented by Not A Number (null) and question mark (?). Read this type of file in R or Python and preprocess the missing values.\n",
    "\n",
    "**NOTE:** Please ensure you have saved the `dataset.csv` file in your current working directory.\n",
    "\n"
   ]
  },
  {
   "cell_type": "code",
   "execution_count": 39,
   "id": "dade2583",
   "metadata": {},
   "outputs": [
    {
     "name": "stdout",
     "output_type": "stream",
     "text": [
      "1,2,3,4,5,6,7,8,9,10\n",
      "\n",
      "11,12,13,14,15,16,17,18,19,20\n",
      "\n",
      "21,22,23,24,25,26,27,28,29,30\n",
      "\n",
      "31,32,33,34,35,36,37,38,39,40\n",
      "\n",
      "41,42,43,44,45,?,47,48,49,50\n",
      "\n",
      "51,52,53,?,55,56,57,null,59,60\n",
      "\n",
      "61,62,63,64,65,66,67,68,69,70\n",
      "\n",
      "71,72,?,74,75,76,77,78,79,80\n",
      "\n",
      "81,82,83,84,85,86,87,88,89,?\n",
      "\n",
      "91,92,93,94,95,96,97,98,99,100\n",
      "\n",
      "null,102,103,104,105,106,107,108,109,110\n",
      "\n",
      "111,112,113,114,115,116,117,118,119,120\n",
      "\n",
      "121,122,123,124,125,126,127,128,129,130\n",
      "\n",
      "131,132,133,134,135,136,137,138,139,null\n",
      "\n",
      "141,142,143,144,145,146,147,148,149,150\n",
      "\n",
      "151,152,153,154,155,156,157,158,159,160\n",
      "\n",
      "161,162,163,164,null,166,167,168,169,170\n"
     ]
    }
   ],
   "source": [
    "dataset = \"D:\\\\Ryerson Big Data Certificate\\\\CIND123-Data Analytics Basic Methods\\\\Assignment1\\\\dataset.csv\"\n",
    "with open(dataset, mode='r') as file:\n",
    "    data = file.readlines()\n",
    "    for row in data:\n",
    "        print(row)\n",
    "file.close()"
   ]
  },
  {
   "cell_type": "markdown",
   "id": "8f958618",
   "metadata": {},
   "source": [
    "Print the head of the file to ensure everything is correct. **DO NOT** print the whole file.\n"
   ]
  },
  {
   "cell_type": "code",
   "execution_count": 46,
   "id": "f2d19582",
   "metadata": {},
   "outputs": [
    {
     "name": "stdout",
     "output_type": "stream",
     "text": [
      "1,2,3,4,5,6,7,8,9,10\n",
      "\n"
     ]
    }
   ],
   "source": [
    "print(data[0])"
   ]
  },
  {
   "cell_type": "markdown",
   "id": "7c89e6a6",
   "metadata": {},
   "source": [
    "<p style=\"font-size: 24px; font-weight: bold;\">Question 2 (50 points)</p>\n",
    "\n",
    "<p style=\"font-size: 20px; font-weight: bold;\">Q2a (15 points)</p>\n",
    "Compute: $$\\sum_{n=4}^{25}\\frac{(-1)^{n+1}}{(2n+1)!}$$\n",
    "\n",
    "**HINT:** Use `factorial(n)` in R or `math.factorial(n)` in Python to compute $n!$.\n",
    "\n",
    "<p style=\"font-size: 20px; font-weight: bold;\">Q2b (15 points)</p>\n",
    "Compute: $$\\prod_{n=2}^{6} \\left(3n + \\frac{2}{3^n} \\right)$$\n",
    "\n",
    "**NOTE:** The symbol $\\Pi$ represents multiplication.\n",
    "\n",
    "<p style=\"font-size: 18px; font-weight: bold;\">Q2a and Q2b Guidance</p>\n",
    "For Q2a and Q2b, you'll need to apply basic mathematical concepts in R or Python. If you understand how to code in R or Python and the basic math operations (like factorial, powers, sums, and products), you're all set!\n",
    "\n",
    "Example for Understanding:\n",
    "Let's start with a simpler example:\n",
    "Compute the sum of the first 5 square numbers. In mathematical terms, this is:\n",
    "\n",
    "$$\\sum_{n=1}^{5}{(n)^{2}}$$\n",
    "\n",
    "which translates to $1^2+2^2+3^2+4^2+5^2$.\n",
    "\n",
    "In R, you could solve this by:\n",
    "\n",
    "```r\n",
    "numbers <- 1:5          # Create a vector of numbers 1 to 5\n",
    "squared_numbers <- numbers^2  # Square each element of the vector\n",
    "sum_squares <- sum(squared_numbers)  # Sum up the squared numbers\n",
    "print(sum_squares)\n",
    "```\n",
    "\n",
    "In Python, you could solve this by:\n",
    "\n",
    "```python\n",
    "numbers = range(1, 6)  # Create a list of numbers from 1 to 5\n",
    "squared_numbers = [n**2 for n in numbers]  # Square each element of the list\n",
    "sum_squares = sum(squared_numbers)  # Sum up the squared numbers\n",
    "print(sum_squares)\n",
    "```\n",
    "\n",
    "\n",
    "Now, come back to Q2a and Q2b. Your task in those questions is similar. You'll use loops to iterate over a range of numbers, applying the specified mathematical operations at each step. Remember to use built-in functions like `factorial()`, `sum()`, and `prod()` in R, or `math.factorial()`, `sum()`, and `math.prod()` in Python when needed.\n"
   ]
  },
  {
   "cell_type": "code",
   "execution_count": 47,
   "id": "d10db897",
   "metadata": {},
   "outputs": [
    {
     "name": "stdout",
     "output_type": "stream",
     "text": [
      "-2.730839642538399e-06\n"
     ]
    }
   ],
   "source": [
    "# Q2a\n",
    "import math\n",
    "\n",
    "numbers = range(4, 26)\n",
    "factorial = [(-1)**(n+1)/math.factorial(2*n+1) for n in numbers]\n",
    "sum_value = sum(factorial)\n",
    "print(sum_value)\n"
   ]
  },
  {
   "cell_type": "code",
   "execution_count": 48,
   "id": "033a8fec",
   "metadata": {},
   "outputs": [
    {
     "name": "stdout",
     "output_type": "stream",
     "text": [
      "183438.2754736432\n"
     ]
    }
   ],
   "source": [
    "# Q2b\n",
    "numbers = range(2, 7)\n",
    "result = 1\n",
    "for n in numbers:\n",
    "    product = 3*n+(2/(3**n))\n",
    "    result *= product\n",
    "print(result)\n"
   ]
  },
  {
   "cell_type": "markdown",
   "id": "d4c476a9",
   "metadata": {},
   "source": [
    "<p style=\"font-size: 20px; font-weight: bold;\">Q2c (10 points)</p>\n",
    "\n",
    "Describe what the following R command does:\n",
    "`rep(1:3, each = 2)`\n",
    "\n",
    "**NOTE:** If you answer the questions in Python, provide an equivalent command and explain its behavior.\n"
   ]
  },
  {
   "cell_type": "code",
   "execution_count": 49,
   "id": "178a171c",
   "metadata": {},
   "outputs": [
    {
     "name": "stdout",
     "output_type": "stream",
     "text": [
      "[1, 1, 2, 2, 3, 3]\n"
     ]
    }
   ],
   "source": [
    "'''\n",
    "In R, rep() is a replication function which will replicate the vector inside it for a number of times,\n",
    "1:3 means 1, 2, 3, each = 2 means replicate 2 times,\n",
    "so the final output will be: 1 1 2 2 3 3.\n",
    "The equivalent command in python is:\n",
    "'''\n",
    "import itertools\n",
    "\n",
    "result = list(itertools.chain.from_iterable(itertools.repeat(item, 2) for item in range(1, 4)))\n",
    "print(result)\n"
   ]
  },
  {
   "cell_type": "markdown",
   "id": "4507f1f1",
   "metadata": {},
   "source": [
    "<p style=\"font-size: 20px; font-weight: bold;\">Q2d (10 points)</p>\n",
    "\n",
    "Describe the purpose of `is.logical()`, `is.character()`, `is.numeric()`, and `is.na()` functions in R. \n",
    "\n",
    "In Python, describe the purpose of `isinstance()`, `type()`, and `pd.isna()` functions from the pandas library. \n",
    "\n",
    "Please use `x <- c(\"a\", FALSE, \"b\", NA, 2, TRUE)` in R or `x = [\"a\", False, \"b\", None, 2, True]` in Python to explain your description."
   ]
  },
  {
   "cell_type": "code",
   "execution_count": 65,
   "id": "3a7366c2",
   "metadata": {},
   "outputs": [
    {
     "name": "stdout",
     "output_type": "stream",
     "text": [
      "True\n",
      "=========================\n",
      "string!!\n",
      "boolen!!\n",
      "string!!\n",
      "None!!\n",
      "Integer!!\n",
      "boolen!!\n",
      "=========================\n",
      "type: <class 'str'>\n",
      "type: <class 'bool'>\n",
      "type: <class 'str'>\n",
      "type: <class 'NoneType'>\n",
      "type: <class 'int'>\n",
      "type: <class 'bool'>\n",
      "=========================\n",
      "False\n",
      "False\n",
      "False\n",
      "True\n",
      "False\n",
      "False\n"
     ]
    }
   ],
   "source": [
    "''' \n",
    "is.logical(): checkes whether an object is a logical type, logical type represents TRUE FALSE values,\n",
    "is.character(): checkes whether an object is a character type, character type represents text values,\n",
    "is.numeric(): checks whether an object is a numeric type, numeric type represents number values,\n",
    "is.na(): checks whether an object is NA, NA represents null value or missing value.\n",
    "'''\n",
    "\n",
    "'''\n",
    "isinstance(object, class): checks whether a certain object is an instance of certain class, \n",
    "type(object): checks the type of the object, returns back the object type,\n",
    "pd.isna(object): checks whether the object is a missing value. \n",
    "for example:\n",
    "'''\n",
    "import pandas as pd\n",
    "\n",
    "x = [\"a\", False, \"b\", None, 2, True]\n",
    "print(isinstance(x, list))\n",
    "print(\"=========================\")\n",
    "for item in x:\n",
    "    if isinstance(item, str):\n",
    "        print(\"string!!\")\n",
    "    elif isinstance(item, bool):\n",
    "        print(\"boolen!!\")\n",
    "    elif isinstance(item, int):\n",
    "        print(\"Integer!!\")\n",
    "    elif item is None:\n",
    "        print(\"None!!\")\n",
    "print(\"=========================\")\n",
    "for item in x:\n",
    "    print(\"type: {}\".format(type(item)))\n",
    "print(\"=========================\")\n",
    "for item in x:\n",
    "    print(pd.isna(item))\n"
   ]
  }
 ],
 "metadata": {
  "kernelspec": {
   "display_name": "Python 3",
   "language": "python",
   "name": "python3"
  },
  "language_info": {
   "codemirror_mode": {
    "name": "ipython",
    "version": 3
   },
   "file_extension": ".py",
   "mimetype": "text/x-python",
   "name": "python",
   "nbconvert_exporter": "python",
   "pygments_lexer": "ipython3",
   "version": "3.11.5"
  },
  "toc": {
   "base_numbering": 1,
   "nav_menu": {},
   "number_sections": true,
   "sideBar": true,
   "skip_h1_title": false,
   "title_cell": "Table of Contents",
   "title_sidebar": "Contents",
   "toc_cell": false,
   "toc_position": {},
   "toc_section_display": true,
   "toc_window_display": false
  }
 },
 "nbformat": 4,
 "nbformat_minor": 5
}
